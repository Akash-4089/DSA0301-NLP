{
  "nbformat": 4,
  "nbformat_minor": 0,
  "metadata": {
    "colab": {
      "provenance": []
    },
    "kernelspec": {
      "name": "python3",
      "display_name": "Python 3"
    },
    "language_info": {
      "name": "python"
    }
  },
  "cells": [
    {
      "cell_type": "code",
      "source": [
        "from nltk.stem import PorterStemmer\n",
        "\n",
        "def perform_stemming(words):\n",
        "    porter_stemmer = PorterStemmer()\n",
        "    stemmed_words = [porter_stemmer.stem(word) for word in words]\n",
        "    return stemmed_words\n",
        "\n",
        "def main():\n",
        "    words = [\"running\", \"flies\", \"happily\", \"fishing\", \"swimming\", \"jumps\"]\n",
        "\n",
        "    stemmed_words = perform_stemming(words)\n",
        "\n",
        "    print(f\"{'Original Word':<15}{'Stemmed Word':<15}\")\n",
        "    print(\"=\"*30)\n",
        "    for original, stemmed in zip(words, stemmed_words):\n",
        "        print(f\"{original:<15}{stemmed:<15}\")\n",
        "\n",
        "if __name__ == \"__main__\":\n",
        "    main()"
      ],
      "metadata": {
        "colab": {
          "base_uri": "https://localhost:8080/"
        },
        "id": "9oPrXWsOCiIA",
        "outputId": "466edf78-67b2-4808-9983-71023fb07ca8"
      },
      "execution_count": 15,
      "outputs": [
        {
          "output_type": "stream",
          "name": "stdout",
          "text": [
            "Original Word  Stemmed Word   \n",
            "==============================\n",
            "running        run            \n",
            "flies          fli            \n",
            "happily        happili        \n",
            "fishing        fish           \n",
            "swimming       swim           \n",
            "jumps          jump           \n"
          ]
        }
      ]
    },
    {
      "cell_type": "code",
      "source": [],
      "metadata": {
        "id": "gxlHrGbEDd3c"
      },
      "execution_count": null,
      "outputs": []
    },
    {
      "cell_type": "code",
      "source": [],
      "metadata": {
        "id": "l7_3uI4VC9Y4"
      },
      "execution_count": null,
      "outputs": []
    }
  ]
}