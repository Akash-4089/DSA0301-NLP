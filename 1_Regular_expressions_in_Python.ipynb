{
  "nbformat": 4,
  "nbformat_minor": 0,
  "metadata": {
    "colab": {
      "provenance": []
    },
    "kernelspec": {
      "name": "python3",
      "display_name": "Python 3"
    },
    "language_info": {
      "name": "python"
    }
  },
  "cells": [
    {
      "cell_type": "code",
      "execution_count": 2,
      "metadata": {
        "colab": {
          "base_uri": "https://localhost:8080/"
        },
        "id": "vYyuhyXWAag4",
        "outputId": "4bc12dc2-8763-48dd-a279-d03a33e7d268"
      },
      "outputs": [
        {
          "output_type": "stream",
          "name": "stdout",
          "text": [
            "Found email addresses:\n",
            "akash@example.com\n",
            "akaash@test.com\n",
            "\n",
            "First email address found:\n",
            "akash@example.com\n",
            "Start position: 30\n",
            "End position: 47\n"
          ]
        }
      ],
      "source": [
        "import re\n",
        "\n",
        "def main():\n",
        "    text = \"Hello, my email addresses are akash@example.com and akaash@test.com. Feel free to contact me!\"\n",
        "\n",
        "    email_pattern = r'\\b[A-Za-z0-9._%+-]+@[A-Za-z0-9.-]+\\.[A-Z|a-z]{2,}\\b'\n",
        "\n",
        "    matches = re.findall(email_pattern, text)\n",
        "\n",
        "    if matches:\n",
        "        print(\"Found email addresses:\")\n",
        "        for match in matches:\n",
        "            print(match)\n",
        "    else:\n",
        "        print(\"No email addresses found.\")\n",
        "\n",
        "    search_result = re.search(email_pattern, text)\n",
        "    if search_result:\n",
        "        print(\"\\nFirst email address found:\")\n",
        "        print(search_result.group())\n",
        "        print(\"Start position:\", search_result.start())\n",
        "        print(\"End position:\", search_result.end())\n",
        "    else:\n",
        "        print(\"\\nNo email address found in the first search.\")\n",
        "\n",
        "if __name__ == \"__main__\":\n",
        "    main()"
      ]
    }
  ]
}