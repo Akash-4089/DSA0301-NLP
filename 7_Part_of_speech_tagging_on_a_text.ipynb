{
  "nbformat": 4,
  "nbformat_minor": 0,
  "metadata": {
    "colab": {
      "provenance": []
    },
    "kernelspec": {
      "name": "python3",
      "display_name": "Python 3"
    },
    "language_info": {
      "name": "python"
    }
  },
  "cells": [
    {
      "cell_type": "code",
      "source": [
        "import nltk\n",
        "text = \"The quick brown fox jumps over the lazy dog\"\n",
        "words = nltk.word_tokenize(text)\n",
        "pos_tags = nltk.pos_tag(words)\n",
        "for word, pos_tag in pos_tags:\n",
        "    print(f\"Word: {word}, POS Tag: {pos_tag}\")"
      ],
      "metadata": {
        "colab": {
          "base_uri": "https://localhost:8080/"
        },
        "id": "9oPrXWsOCiIA",
        "outputId": "6f3ca101-fa35-4d37-de2d-1ceebd05302f"
      },
      "execution_count": 23,
      "outputs": [
        {
          "output_type": "stream",
          "name": "stdout",
          "text": [
            "Word: The, POS Tag: DT\n",
            "Word: quick, POS Tag: JJ\n",
            "Word: brown, POS Tag: NN\n",
            "Word: fox, POS Tag: NN\n",
            "Word: jumps, POS Tag: VBZ\n",
            "Word: over, POS Tag: IN\n",
            "Word: the, POS Tag: DT\n",
            "Word: lazy, POS Tag: JJ\n",
            "Word: dog, POS Tag: NN\n"
          ]
        }
      ]
    },
    {
      "cell_type": "code",
      "source": [
        "\n"
      ],
      "metadata": {
        "id": "gxlHrGbEDd3c"
      },
      "execution_count": 20,
      "outputs": []
    },
    {
      "cell_type": "code",
      "source": [],
      "metadata": {
        "id": "l7_3uI4VC9Y4"
      },
      "execution_count": null,
      "outputs": []
    }
  ]
}