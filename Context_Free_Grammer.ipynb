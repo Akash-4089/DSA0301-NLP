{
  "nbformat": 4,
  "nbformat_minor": 0,
  "metadata": {
    "colab": {
      "provenance": []
    },
    "kernelspec": {
      "name": "python3",
      "display_name": "Python 3"
    },
    "language_info": {
      "name": "python"
    }
  },
  "cells": [
    {
      "cell_type": "code",
      "execution_count": null,
      "metadata": {
        "id": "Ts8wligTwGKQ"
      },
      "outputs": [],
      "source": [
        "import nltk\n",
        "from nltk import CFG\n",
        "\n",
        "# Define a context-free grammar for English sentences\n",
        "grammar = CFG.fromstring(\"\"\"\n",
        "    S -> NP VP\n",
        "    NP -> Det N | Det N PP | 'I'\n",
        "    VP -> V NP | VP PP\n",
        "    PP -> P NP\n",
        "    Det -> 'the' | 'a'\n",
        "    N -> 'cat' | 'dog' | 'man' | 'park'\n",
        "    V -> 'chased' | 'saw'\n",
        "    P -> 'in' | 'on'\n",
        "\"\"\")\n",
        "\n",
        "parser = nltk.ChartParser(grammar)\n",
        "\n",
        "sentence = \"I saw the dog in the park\"\n",
        "\n",
        "tokens = sentence.split()\n",
        "\n",
        "for tree in parser.parse(tokens):\n",
        "    tree.pretty_print()"
      ]
    }
  ]
}