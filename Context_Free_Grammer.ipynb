{
  "nbformat": 4,
  "nbformat_minor": 0,
  "metadata": {
    "colab": {
      "provenance": []
    },
    "kernelspec": {
      "name": "python3",
      "display_name": "Python 3"
    },
    "language_info": {
      "name": "python"
    }
  },
  "cells": [
    {
      "cell_type": "code",
      "execution_count": 1,
      "metadata": {
        "colab": {
          "base_uri": "https://localhost:8080/"
        },
        "id": "Ts8wligTwGKQ",
        "outputId": "45bbc5c9-19ed-4b2a-e1d4-45afb4784f25"
      },
      "outputs": [
        {
          "output_type": "stream",
          "name": "stdout",
          "text": [
            "     S                              \n",
            "  ___|___________                    \n",
            " |               VP                 \n",
            " |        _______|_______            \n",
            " |       VP              PP         \n",
            " |    ___|___         ___|___        \n",
            " |   |       NP      |       NP     \n",
            " |   |    ___|___    |    ___|___    \n",
            " NP  V  Det      N   P  Det      N  \n",
            " |   |   |       |   |   |       |   \n",
            " I  saw the     dog  in the     park\n",
            "\n",
            "     S                          \n",
            "  ___|_______                    \n",
            " |           VP                 \n",
            " |    _______|___                \n",
            " |   |           NP             \n",
            " |   |    _______|___            \n",
            " |   |   |   |       PP         \n",
            " |   |   |   |    ___|___        \n",
            " |   |   |   |   |       NP     \n",
            " |   |   |   |   |    ___|___    \n",
            " NP  V  Det  N   P  Det      N  \n",
            " |   |   |   |   |   |       |   \n",
            " I  saw the dog  in the     park\n",
            "\n"
          ]
        }
      ],
      "source": [
        "import nltk\n",
        "from nltk import CFG\n",
        "\n",
        "# Define a context-free grammar for English sentences\n",
        "grammar = CFG.fromstring(\"\"\"\n",
        "    S -> NP VP\n",
        "    NP -> Det N | Det N PP | 'I'\n",
        "    VP -> V NP | VP PP\n",
        "    PP -> P NP\n",
        "    Det -> 'the' | 'a'\n",
        "    N -> 'cat' | 'dog' | 'man' | 'park'\n",
        "    V -> 'chased' | 'saw'\n",
        "    P -> 'in' | 'on'\n",
        "\"\"\")\n",
        "\n",
        "parser = nltk.ChartParser(grammar)\n",
        "\n",
        "sentence = \"I saw the dog in the park\"\n",
        "\n",
        "tokens = sentence.split()\n",
        "\n",
        "for tree in parser.parse(tokens):\n",
        "    tree.pretty_print()"
      ]
    }
  ]
}