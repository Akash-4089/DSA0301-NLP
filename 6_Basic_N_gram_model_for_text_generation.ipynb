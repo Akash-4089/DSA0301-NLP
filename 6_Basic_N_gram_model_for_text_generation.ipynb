{
  "nbformat": 4,
  "nbformat_minor": 0,
  "metadata": {
    "colab": {
      "provenance": []
    },
    "kernelspec": {
      "name": "python3",
      "display_name": "Python 3"
    },
    "language_info": {
      "name": "python"
    }
  },
  "cells": [
    {
      "cell_type": "code",
      "source": [
        "import random\n",
        "import nltk\n",
        "nltk.download('punkt')\n",
        "text = \"This is a simple example of a bigram model. Text generation using bigrams is fun and educational.\"\n",
        "\n",
        "words = nltk.word_tokenize(text)\n",
        "\n",
        "bigrams = list(nltk.bigrams(words))\n",
        "\n",
        "\n",
        "bigram_model = {}\n",
        "for w1, w2 in bigrams:\n",
        "    if w1 in bigram_model:\n",
        "        bigram_model[w1].append(w2)\n",
        "    else:\n",
        "        bigram_model[w1] = [w2]\n",
        "\n",
        "start_word = random.choice(words)\n",
        "generated_text = [start_word]\n",
        "\n",
        "for _ in range(20):\n",
        "    next_word = random.choice(bigram_model.get(generated_text[-1], [\".\"]))\n",
        "    if next_word == \".\":\n",
        "        break\n",
        "    generated_text.append(next_word)\n",
        "\n",
        "generated_text = \" \".join(generated_text)\n",
        "print(generated_text)\n"
      ],
      "metadata": {
        "colab": {
          "base_uri": "https://localhost:8080/"
        },
        "id": "9oPrXWsOCiIA",
        "outputId": "0f4c8343-8069-4569-b8f6-25ba0bc24086"
      },
      "execution_count": 21,
      "outputs": [
        {
          "output_type": "stream",
          "name": "stdout",
          "text": [
            "a simple example of a bigram model\n"
          ]
        },
        {
          "output_type": "stream",
          "name": "stderr",
          "text": [
            "[nltk_data] Downloading package punkt to /root/nltk_data...\n",
            "[nltk_data]   Package punkt is already up-to-date!\n"
          ]
        }
      ]
    },
    {
      "cell_type": "code",
      "source": [
        "\n"
      ],
      "metadata": {
        "id": "gxlHrGbEDd3c"
      },
      "execution_count": 20,
      "outputs": []
    },
    {
      "cell_type": "code",
      "source": [],
      "metadata": {
        "id": "l7_3uI4VC9Y4"
      },
      "execution_count": null,
      "outputs": []
    }
  ]
}