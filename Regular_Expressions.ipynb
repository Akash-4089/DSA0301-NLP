{
  "nbformat": 4,
  "nbformat_minor": 0,
  "metadata": {
    "colab": {
      "provenance": []
    },
    "kernelspec": {
      "name": "python3",
      "display_name": "Python 3"
    },
    "language_info": {
      "name": "python"
    }
  },
  "cells": [
    {
      "cell_type": "code",
      "execution_count": 1,
      "metadata": {
        "colab": {
          "base_uri": "https://localhost:8080/"
        },
        "id": "vPqjEjwsvc-y",
        "outputId": "fb3bef07-9c98-4f56-e836-56b59d2ec877"
      },
      "outputs": [
        {
          "output_type": "stream",
          "name": "stdout",
          "text": [
            "Email addresses: ['john.doe@example.com']\n",
            "URLs: ['http://www.example.com']\n",
            "Text without URLs: Email me at john.doe@example.com or visit URL for more information.\n",
            "Words: ['Email', 'me', 'at', 'john', 'doe', 'example', 'com', 'or', 'visit', 'http', 'www', 'example', 'com', 'for', 'more', 'information']\n",
            "Occurrences of 'visit': 1\n"
          ]
        }
      ],
      "source": [
        "import re\n",
        "text = \"Email me at john.doe@example.com or visit http://www.example.com for more information.\"\n",
        "email_pattern = r'\\b[A-Za-z0-9._%+-]+@[A-Za-z0-9.-]+\\.[A-Z|a-z]{2,7}\\b'\n",
        "emails = re.findall(email_pattern, text)\n",
        "print(\"Email addresses:\", emails)\n",
        "url_pattern = r'http[s]?://(?:[a-zA-Z]|[0-9]|[$-_@.&+]|[!*\\(\\),]|(?:%[0-9a-fA-F][0-9a-fA-F]))+'\n",
        "urls = re.findall(url_pattern, text)\n",
        "print(\"URLs:\", urls)\n",
        "text_without_urls = re.sub(url_pattern, 'URL', text)\n",
        "print(\"Text without URLs:\", text_without_urls)\n",
        "word_pattern = r'\\w+'\n",
        "words = re.findall(word_pattern, text)\n",
        "print(\"Words:\", words)\n",
        "search_pattern = r'\\bvisit\\b'\n",
        "matches = re.findall(search_pattern, text)\n",
        "print(\"Occurrences of 'visit':\", len(matches))"
      ]
    }
  ]
}