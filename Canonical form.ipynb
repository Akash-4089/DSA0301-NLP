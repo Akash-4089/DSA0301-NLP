{
 "cells": [
  {
   "cell_type": "code",
   "execution_count": 1,
   "metadata": {},
   "outputs": [
    {
     "name": "stdout",
     "output_type": "stream",
     "text": [
      "The temperature in the room is 25 degree celcius\n"
     ]
    }
   ],
   "source": [
    "print(\"The temperature in the room is 25 degree celcius\")"
   ]
  },
  {
   "cell_type": "code",
   "execution_count": 5,
   "metadata": {},
   "outputs": [
    {
     "name": "stdout",
     "output_type": "stream",
     "text": [
      "The room temperature is 25 degree celcius\n"
     ]
    }
   ],
   "source": [
    "temp=25\n",
    "print(f\"The room temperature is {temp} degree celcius\")"
   ]
  },
  {
   "cell_type": "code",
   "execution_count": 6,
   "metadata": {},
   "outputs": [
    {
     "name": "stdout",
     "output_type": "stream",
     "text": [
      "The canonical form of 'temperature' is 'Temperature'\n"
     ]
    }
   ],
   "source": [
    "word='temperature'\n",
    "canonical_form=word.capitalize()\n",
    "print(f\"The canonical form of '{word}' is '{canonical_form}'\")"
   ]
  },
  {
   "cell_type": "code",
   "execution_count": 8,
   "metadata": {},
   "outputs": [
    {
     "data": {
      "text/plain": [
       "77.0"
      ]
     },
     "execution_count": 8,
     "metadata": {},
     "output_type": "execute_result"
    }
   ],
   "source": [
    "cTemp=25\n",
    "fTemp=(cTemp*(9/5)+32)\n",
    "fTemp"
   ]
  },
  {
   "cell_type": "code",
   "execution_count": 10,
   "metadata": {},
   "outputs": [
    {
     "data": {
      "text/plain": [
       "\"It's warm\""
      ]
     },
     "execution_count": 10,
     "metadata": {},
     "output_type": "execute_result"
    }
   ],
   "source": [
    "def analyze_temp(temp):\n",
    "    if temp<0:\n",
    "        return \"It's freezing\"\n",
    "    elif temp>0 and temp<=20:\n",
    "        return \"It's chill\"\n",
    "    else:\n",
    "        return \"It's warm\"\n",
    "\n",
    "analyze_temp(temp)"
   ]
  },
  {
   "cell_type": "code",
   "execution_count": null,
   "metadata": {},
   "outputs": [],
   "source": []
  }
 ],
 "metadata": {
  "kernelspec": {
   "display_name": "Python 3",
   "language": "python",
   "name": "python3"
  },
  "language_info": {
   "codemirror_mode": {
    "name": "ipython",
    "version": 3
   },
   "file_extension": ".py",
   "mimetype": "text/x-python",
   "name": "python",
   "nbconvert_exporter": "python",
   "pygments_lexer": "ipython3",
   "version": "3.11.4"
  },
  "orig_nbformat": 4
 },
 "nbformat": 4,
 "nbformat_minor": 2
}
