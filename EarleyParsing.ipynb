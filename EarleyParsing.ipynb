{
  "nbformat": 4,
  "nbformat_minor": 0,
  "metadata": {
    "colab": {
      "provenance": []
    },
    "kernelspec": {
      "name": "python3",
      "display_name": "Python 3"
    },
    "language_info": {
      "name": "python"
    }
  },
  "cells": [
    {
      "cell_type": "code",
      "execution_count": null,
      "metadata": {
        "colab": {
          "base_uri": "https://localhost:8080/"
        },
        "id": "44nVf1JInzXJ",
        "outputId": "bff71354-5fbd-4db3-d561-759d8a4db4c0"
      },
      "outputs": [
        {
          "output_type": "stream",
          "name": "stdout",
          "text": [
            "category:Noun\n",
            "person:3rd\n",
            "number:singular\n",
            "category:verb\n",
            "person:1st\n",
            "number:singular\n"
          ]
        }
      ],
      "source": [
        "word_features = {\n",
        "    \"category\": \"Noun\", 'person':'3rd',\n",
        "    'number':'singular'\n",
        "}\n",
        "for feature, value in word_features.items():\n",
        "  print(f\"{feature}:{value}\")\n",
        "another_word_feature = {\n",
        "    'category':'verb',\n",
        "    'person':'1st',\n",
        "    'number':'singular'\n",
        "}\n",
        "for feature,value in another_word_feature.items():\n",
        "  print(f'{feature}:{value}')"
      ]
    }
  ]
}