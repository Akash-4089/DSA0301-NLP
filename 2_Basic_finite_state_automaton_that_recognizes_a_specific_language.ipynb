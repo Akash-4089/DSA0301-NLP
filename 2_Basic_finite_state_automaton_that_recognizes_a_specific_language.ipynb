{
  "nbformat": 4,
  "nbformat_minor": 0,
  "metadata": {
    "colab": {
      "provenance": []
    },
    "kernelspec": {
      "name": "python3",
      "display_name": "Python 3"
    },
    "language_info": {
      "name": "python"
    }
  },
  "cells": [
    {
      "cell_type": "code",
      "execution_count": 3,
      "metadata": {
        "colab": {
          "base_uri": "https://localhost:8080/"
        },
        "id": "vYyuhyXWAag4",
        "outputId": "1f267a8e-3aa2-4896-fc9b-98f1f9bda918"
      },
      "outputs": [
        {
          "output_type": "stream",
          "name": "stdout",
          "text": [
            "String: 'ab' - Match: True\n",
            "String: 'aab' - Match: False\n",
            "String: 'abb' - Match: True\n",
            "String: 'abc' - Match: False\n",
            "String: 'ba' - Match: True\n",
            "String: 'b' - Match: False\n",
            "String: '' - Match: False\n"
          ]
        }
      ],
      "source": [
        "class StringMatcherAutomaton:\n",
        "    def __init__(self):\n",
        "        # Define states\n",
        "        self.initial_state = 'q0'\n",
        "        self.accepting_state = 'q1'\n",
        "        self.current_state = self.initial_state\n",
        "\n",
        "    def transition(self, char):\n",
        "        # Define transitions\n",
        "        if self.current_state == 'q0' and char == 'a':\n",
        "            self.current_state = 'q1'\n",
        "        elif self.current_state == 'q1' and char == 'b':\n",
        "            self.current_state = 'q1'\n",
        "        else:\n",
        "            self.current_state = 'q0'\n",
        "\n",
        "    def process_string(self, input_string):\n",
        "        # Reset the current state to the initial state for each string\n",
        "        self.current_state = self.initial_state\n",
        "\n",
        "        # Process the input string character by character\n",
        "        for char in input_string:\n",
        "            self.transition(char)\n",
        "\n",
        "        # Check if the final state is the accepting state\n",
        "        return self.current_state == self.accepting_state\n",
        "\n",
        "\n",
        "def main():\n",
        "    # Create an instance of the StringMatcherAutomaton\n",
        "    automaton = StringMatcherAutomaton()\n",
        "\n",
        "    # Test the automaton with various strings\n",
        "    test_strings = ['ab', 'aab', 'abb', 'abc', 'ba', 'b', '']\n",
        "    for test_string in test_strings:\n",
        "        result = automaton.process_string(test_string)\n",
        "        print(f\"String: '{test_string}' - Match: {result}\")\n",
        "\n",
        "\n",
        "if __name__ == \"__main__\":\n",
        "    main()"
      ]
    }
  ]
}