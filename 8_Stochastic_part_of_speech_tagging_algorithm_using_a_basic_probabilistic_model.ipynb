{
  "nbformat": 4,
  "nbformat_minor": 0,
  "metadata": {
    "colab": {
      "provenance": []
    },
    "kernelspec": {
      "name": "python3",
      "display_name": "Python 3"
    },
    "language_info": {
      "name": "python"
    }
  },
  "cells": [
    {
      "cell_type": "code",
      "source": [
        "import nltk\n",
        "nltk.download('brown')\n",
        "from nltk.corpus import brown\n",
        "from random import randint\n",
        "train_data = brown.tagged_sents(categories='news')\n",
        "word_tag_pairs = [(word, tag) for sentence in train_data for word, tag in sentence]\n",
        "word_tags_dict = {}\n",
        "for word, tag in word_tag_pairs:\n",
        "    if word not in word_tags_dict:\n",
        "        word_tags_dict[word] = []\n",
        "    word_tags_dict[word].append(tag)\n",
        "def stochastic_pos_tagger(sentence):\n",
        "    tagged_sentence = []\n",
        "    for word in sentence:\n",
        "        tag_list = word_tags_dict.get(word, ['NN'])\n",
        "        rand_index = randint(0, len(tag_list) - 1)\n",
        "        tagged_sentence.append((word, tag_list[rand_index]))\n",
        "    return tagged_sentence\n",
        "test_sentence = ['Implement', 'a', 'simple', 'stochastic', 'part-of-speech', 'tagging', 'algorithm', 'using', 'a', 'basic', 'probabilistic', 'model', 'to', 'assign', 'POS', 'tags', 'using', 'python']\n",
        "print(stochastic_pos_tagger(test_sentence))"
      ],
      "metadata": {
        "colab": {
          "base_uri": "https://localhost:8080/"
        },
        "id": "9oPrXWsOCiIA",
        "outputId": "78d47588-7664-4e83-e029-8ccd4020afce"
      },
      "execution_count": 25,
      "outputs": [
        {
          "output_type": "stream",
          "name": "stderr",
          "text": [
            "[nltk_data] Downloading package brown to /root/nltk_data...\n",
            "[nltk_data]   Unzipping corpora/brown.zip.\n"
          ]
        },
        {
          "output_type": "stream",
          "name": "stdout",
          "text": [
            "[('Implement', 'NN'), ('a', 'AT'), ('simple', 'JJ'), ('stochastic', 'NN'), ('part-of-speech', 'NN'), ('tagging', 'NN'), ('algorithm', 'NN'), ('using', 'VBG'), ('a', 'AT'), ('basic', 'JJ'), ('probabilistic', 'NN'), ('model', 'JJ'), ('to', 'TO'), ('assign', 'VB'), ('POS', 'NN'), ('tags', 'NN'), ('using', 'VBG'), ('python', 'NN')]\n"
          ]
        }
      ]
    },
    {
      "cell_type": "code",
      "source": [
        "\n"
      ],
      "metadata": {
        "id": "gxlHrGbEDd3c"
      },
      "execution_count": 20,
      "outputs": []
    },
    {
      "cell_type": "code",
      "source": [],
      "metadata": {
        "id": "l7_3uI4VC9Y4"
      },
      "execution_count": null,
      "outputs": []
    }
  ]
}